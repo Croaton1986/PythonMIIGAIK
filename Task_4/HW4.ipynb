{
 "cells": [
  {
   "cell_type": "markdown",
   "metadata": {},
   "source": [
    "## Домашняя работа 4"
   ]
  },
  {
   "cell_type": "markdown",
   "metadata": {},
   "source": [
    "***В сумме за домашнюю работу вы можете получить 17 баллов.*** <br> \n",
    "***Итоговая оценка будет равна доле полученных баллов от общей суммы x10.*** \n",
    "<p>\n",
    "<font size='3' color=\"B3000C\">Ноутбук (файл в расширением .ipynb) выложите на свой git и пришлите ссылку на почту python.in.miigaik@gmail.com.<br> В теме письма укажите номер домашней работы и номер группы: HW... , Group... .</font>\n",
    "</p>"
   ]
  },
  {
   "cell_type": "markdown",
   "metadata": {},
   "source": [
    "### Задача 1 «Длина отрезка»   (1 балл)\n",
    "Пользователь с клавиатуры вводит четыре действительных числа: x1, y1, x2, y2. Напишите функцию distance(x1, y1, x2, y2), вычисляющая расстояние между точкой (x1,y1) и (x2,y2). \n",
    "<img src=\"http://www.codecogs.com/gif.latex?d=\\sqrt{(x_2-x_1)^2+(y_2-y_1)^2}\">"
   ]
  },
  {
   "cell_type": "code",
   "execution_count": 1,
   "metadata": {},
   "outputs": [],
   "source": [
    "# Ex. 1\n",
    "def distance(x1,y1,x2,y2):\n",
    "    d=((x2-x1)**2+(y2-y1)**2)**(1/2)\n",
    "    print(\"Расстояние между точкой с координатами \"+'('+str(x1)+','+str(y1)+') и точкой с координатами '+'('+str(x2)+','+str(y2)+') =',d)"
   ]
  },
  {
   "cell_type": "code",
   "execution_count": 2,
   "metadata": {},
   "outputs": [
    {
     "name": "stdout",
     "output_type": "stream",
     "text": [
      "Расстояние между точкой с координатами (1,1) и точкой с координатами (4,5) = 5.0\n"
     ]
    }
   ],
   "source": [
    "distance(1,1,4,5)"
   ]
  },
  {
   "cell_type": "markdown",
   "metadata": {},
   "source": [
    "### Задача 2 (2 балла)\n",
    "Вам дается два списка строк. Будем рассматривать следующие разности:  $$|len(a) - len(b)|,$$ где a - элемент из первого списка, а b - из второго. <br>\n",
    "Напишите функцию, которая возвращает наибольшую такую разность.\n",
    "На вход такой функции подается два списка строк.\n",
    "\n",
    "** Подсказка **\n",
    "abs() - функция нахождения модуля."
   ]
  },
  {
   "cell_type": "code",
   "execution_count": 4,
   "metadata": {},
   "outputs": [],
   "source": [
    "first_list = ['Ночь', 'улица', 'фонарь', 'аптека', 'Бессмысленный', 'и', 'тусклый', 'свет']\n",
    "second_list = ['Живи', 'еще', 'хоть', 'четверть', 'века', 'Все', 'будет', 'так', 'Исхода', 'нет']"
   ]
  },
  {
   "cell_type": "code",
   "execution_count": 3,
   "metadata": {},
   "outputs": [],
   "source": [
    "# Ex. 2\n",
    "\n",
    "def ex2(x1,x2):\n",
    "    g=[abs(len(i)-len(j)) for i in x1 for j in x2]      \n",
    "    max=g[0]\n",
    "    for i in g:\n",
    "        if i>max:\n",
    "            max=i\n",
    "    print(max)"
   ]
  },
  {
   "cell_type": "code",
   "execution_count": 5,
   "metadata": {},
   "outputs": [
    {
     "name": "stdout",
     "output_type": "stream",
     "text": [
      "10\n"
     ]
    }
   ],
   "source": [
    "ex2(first_list,second_list)"
   ]
  },
  {
   "cell_type": "markdown",
   "metadata": {},
   "source": [
    "### Задача 3 (1 балл)\n",
    "Вам дается строка в которой присутвуют подряд идущие одинаковые символы. Напишите функцию, которая принимает строку и возвращает ее в \"нормальном\" виде: то есть из подряд идущих одинаковых символов оставляет только один.\n",
    "\n",
    "**Пример **<br>\n",
    "'Привеееееееет!!! Я тттвоя новаяяя стррока)))))' -> 'Привет! Я твоя новая строка)'\n"
   ]
  },
  {
   "cell_type": "code",
   "execution_count": 6,
   "metadata": {},
   "outputs": [],
   "source": [
    "# Ex. 3\n",
    "\n",
    "def ex3(x1):\n",
    "    g=[x1[i] for i in range(len(x1)-1) if x1[i]!=x1[(i+1)]]\n",
    "    print(''.join(g)+str(x1[len(x1)-1]))"
   ]
  },
  {
   "cell_type": "code",
   "execution_count": 7,
   "metadata": {},
   "outputs": [
    {
     "name": "stdout",
     "output_type": "stream",
     "text": [
      "Привет! Я твоя новая строка)\n"
     ]
    }
   ],
   "source": [
    "s='Привеееееееет!!! Я тттвоя новаяяя стррока)))))'\n",
    "ex3(s)"
   ]
  },
  {
   "cell_type": "markdown",
   "metadata": {},
   "source": [
    "### Задача 4 (1 балл)\n",
    "Напишите функцию, на вход которой подается строка и которая должна вернуть строку - часть алфавита, в которой буква будет заглавной, если ее не было в строке,  и маленькой, если она была в строке. При этом нужно вывести ту часть алфавита, которая начинается с первого символа присутствующего в строке и заканчивается также символом присутствующем в строке.\n",
    "\n",
    "** Подсказка**<br>\n",
    "Чтобы не писать алфавиты вручную, воспользуйтесь функциями ord() и chr()? кторые по заданным символам или номерам, соответственно, выводят символ или его номер.<br>\n",
    "ord('a') == 97, chr(97) == 'a'\n",
    "\n",
    "**Пример**<br>\n",
    "***Вход***<br>\n",
    "\"holly\"<br>\n",
    "***Выход***<br>\n",
    "\"hIJKlMNoPQRSTUVWXy\""
   ]
  },
  {
   "cell_type": "code",
   "execution_count": 45,
   "metadata": {},
   "outputs": [],
   "source": [
    "# Ex. 4\n",
    "\n",
    "def ex4(x):\n",
    "    max=ord(x[0])\n",
    "    min=ord(x[0])\n",
    "    for i in x:\n",
    "        if ord(i)>max:\n",
    "            max=ord(i)\n",
    "        elif ord(i)<min:\n",
    "            min=ord(i)\n",
    "    g=[(chr(j) if str(chr(j)) in x else chr(j).upper()) for j in range(min,max+1)]\n",
    "    print(''.join(g))"
   ]
  },
  {
   "cell_type": "code",
   "execution_count": 46,
   "metadata": {},
   "outputs": [
    {
     "name": "stdout",
     "output_type": "stream",
     "text": [
      "hIJKlMNoPQRSTUVWXy\n"
     ]
    }
   ],
   "source": [
    "s='holly'\n",
    "ex4(s)"
   ]
  },
  {
   "cell_type": "markdown",
   "metadata": {},
   "source": [
    "### Задача 5 (2 балла)\n",
    "Напишите функцию - кассовый аппарат, на вход которой подается содержимое кассы в виде словаря, где ключи - номиналы купюр, а значения - количества купюр данного номинала, находящиеся в кассе. Также на вход функции подается число - сдача, которую необходимо выдать из кассы. Если в кассе найдется такой набор купюр, чтобы выдать запрошенную сдачу - функция должна вернть True, если нет - False.<br>\n",
    "Купюры могут быть номиналом только 25, 50 и 100.\n",
    "\n",
    "**Пример** <br>\n",
    "cashbox = {25:1, 50:2, 100:1} <br>\n",
    "give_change(cashbox, 300) -> False  <br>\n",
    "give_change(cashbox, 75) -> True <br>\n",
    "give_change(cashbox, 0) -> True  <br>"
   ]
  },
  {
   "cell_type": "code",
   "execution_count": 101,
   "metadata": {},
   "outputs": [],
   "source": [
    "# Ex. 5\n",
    "def cash(x,y):\n",
    "    x1=[i for i in list(x.keys()) for j in range(x[i])]\n",
    "    \n",
    "    ss=set()\n",
    "    ss1=set()\n",
    "    for i in range(len(x1)):\n",
    "        s=x1[i]\n",
    "        for j in range(len(x1)):\n",
    "            if i!=j:\n",
    "                s1=x1[i]+x1[j]\n",
    "                s=x1[j]+s\n",
    "                ss.add(s)\n",
    "                ss1.add(s1)\n",
    "    t=ss.union(ss1)\n",
    "    if (y in x1 or y in t) or y==0:\n",
    "        #print(t,list(x.keys()))\n",
    "        return True\n",
    "    else:\n",
    "        #print(t,x1,ss)\n",
    "        return False"
   ]
  },
  {
   "cell_type": "code",
   "execution_count": 113,
   "metadata": {},
   "outputs": [
    {
     "data": {
      "text/plain": [
       "False"
      ]
     },
     "execution_count": 113,
     "metadata": {},
     "output_type": "execute_result"
    }
   ],
   "source": [
    "cashbox={25:0, 50:1, 100:0} \n",
    "a=100\n",
    "cash(cashbox,a)"
   ]
  },
  {
   "cell_type": "markdown",
   "metadata": {},
   "source": [
    "### Задача 6 (1 балл)\n",
    "Иннокентий работает кассиром в кинотеатре. Билет на любой фильм стоит 25.**-** В кассу выстроилась очередь, у всех купюры номиналом 25, 50 или 100.**-**. В кинотеатре правило: 1 билет в одни руки. У Кеши пустая касса. Сможет ли он обслужить всех людей из очереди (то есть своевременно выдать каждому сдачу)? Люди в очереди местами не меняются.\n",
    "\n",
    "Напишите функцию, на вход которой подается очередь (список из купюр, которые каждый посетитель собирается отдать) и которая возвращает True - если Кеша сможет всех обслужить и False - если нет. <br>\n",
    "P.s. очередь может быть любой длины. <br>\n",
    "P.p.s. используете функцию - кассовый аппарат, который вы написали в прошлом задании. \n",
    "\n",
    "**Пример **<br>\n",
    "Kesha(25, 25, 50) -> True<br>\n",
    "Kesha(25, 100) -> False<br>\n",
    "Kesha(25, 25, 50, 50, 100) -> False<br>"
   ]
  },
  {
   "cell_type": "code",
   "execution_count": 223,
   "metadata": {},
   "outputs": [],
   "source": [
    "# Ex. 6\n",
    "def cinema(s):\n",
    "    g={25:0,50:0,100:0}\n",
    "    for i in range(len(s)):\n",
    "        if cash(g,(s[i]-25))==True and (s[i]-25)>0:\n",
    "            if s[i]==50:\n",
    "                g[s[i]]=g[s[i]]+1                   \n",
    "                g[25]=g[25]-(s[i]-25)//25\n",
    "            elif s[i]==100 and g[50]>0:\n",
    "                g[s[i]]=g[s[i]]+1  \n",
    "                g[50]=g[50]-(s[i]-25)//50\n",
    "                g[25]=g[25]-1\n",
    "            else:\n",
    "                g[s[i]]=g[s[i]]+1 \n",
    "                g[25]=g[25]-(s[i]-25)//25\n",
    "                    \n",
    "        elif cash(g,(s[i]-25))==True and (s[i]-25)==0:\n",
    "            g[s[i]]=g[s[i]]+1\n",
    "            \n",
    "        else:\n",
    "            return False\n",
    "        #print(c,s[i],g)\n",
    "    return True\n",
    "    #return g"
   ]
  },
  {
   "cell_type": "code",
   "execution_count": 231,
   "metadata": {},
   "outputs": [
    {
     "data": {
      "text/plain": [
       "True"
      ]
     },
     "execution_count": 231,
     "metadata": {},
     "output_type": "execute_result"
    }
   ],
   "source": [
    "cinema([25,25,50,25,100])"
   ]
  },
  {
   "cell_type": "markdown",
   "metadata": {},
   "source": [
    "### Задача 7 Кегельбан (2 балла)\n",
    "N кеглей выставили в один ряд, занумеровав их слева направо числами от 1 до N. Затем по этому ряду бросили K шаров, при этом i-й шар сбил все кегли с номерами от li до ri включительно. <br>\n",
    "Напишите функцию, которая получает на вход количество кеглей N и количество бросков K, и возвращает последовательность из N символов, где j-й символ есть \"I\", если j-я кегля осталась стоять, или \".\", если j-я кегля была сбита.<br>\n",
    "Броски происходят внутри функции.\n",
    "\n",
    "**Примеры**<br>\n",
    "***Вход***<br>\n",
    "20 3<br>\n",
    "*броски*<br>\n",
    "3 8<br>\n",
    "13 17<br>\n",
    "6 9<br>\n",
    "***Выход***<br>\n",
    "II.......III.....III\n",
    "\n",
    "\n",
    "***Вход*** <br>\n",
    "5 0<br>\n",
    "***Выход*** <br>\n",
    "IIIII"
   ]
  },
  {
   "cell_type": "code",
   "execution_count": 6,
   "metadata": {},
   "outputs": [],
   "source": [
    "# Ex. 7\n",
    "def balls(N,k):\n",
    "    a=[\"|\" for i in range(N)]\n",
    "    c=[]\n",
    "    for i in range(k):\n",
    "        for j in range(2):\n",
    "            c.append(int(input('введите диапазон '+(str(i+1))+' броска:')))\n",
    "        a[(c[0]-1):c[1]]='.'*(c[1]-c[0]+1)\n",
    "        c=[]\n",
    "    print(''.join(a))"
   ]
  },
  {
   "cell_type": "code",
   "execution_count": 7,
   "metadata": {},
   "outputs": [
    {
     "name": "stdout",
     "output_type": "stream",
     "text": [
      "введите диапазон 1 броска:3\n",
      "введите диапазон 1 броска:8\n",
      "введите диапазон 2 броска:13\n",
      "введите диапазон 2 броска:17\n",
      "введите диапазон 3 броска:6\n",
      "введите диапазон 3 броска:9\n",
      "||.......|||.....|||\n"
     ]
    }
   ],
   "source": [
    "balls(20,3)"
   ]
  },
  {
   "cell_type": "markdown",
   "metadata": {},
   "source": [
    "### Задача 8 Записная книжка (3 балла)\n",
    "Раньше Ева вела записную книжку хаотично - имена, адреса, номера были перемешаны в строке, но при этом в одной строке записана информация только об одном человеке. Ваша задача написать функцию, которая содержимое книжки переведет словарь со структурой, приведенной в примере. <br>\n",
    "При этом содержимое книжки подается в виде одного элемента типа строка: строчки записной книжки разделяются символом переноса строки \"\\n\", ФИО человека заключено в елочки: <>, номер обязтельно начинается с +, остальное является адресом, элементы отделяются друг от друга двумя пробелами, адрес может быть написан с разрывом. При этом Ева иногда в записях делала пометки в виде \"?\" и \"!\". Эти пометки не должны войти в конечный словарь.\n",
    "\n",
    "**Пример**<br>"
   ]
  },
  {
   "cell_type": "code",
   "execution_count": 84,
   "metadata": {},
   "outputs": [
    {
     "ename": "UnboundLocalError",
     "evalue": "local variable 'j' referenced before assignment",
     "output_type": "error",
     "traceback": [
      "\u001b[1;31m---------------------------------------------------------------------------\u001b[0m",
      "\u001b[1;31mUnboundLocalError\u001b[0m                         Traceback (most recent call last)",
      "\u001b[1;32m<ipython-input-84-cd40bc35c80c>\u001b[0m in \u001b[0;36m<module>\u001b[1;34m()\u001b[0m\n\u001b[0;32m     22\u001b[0m     \u001b[1;32mreturn\u001b[0m \u001b[1;33m(\u001b[0m\u001b[0mname\u001b[0m\u001b[1;33m,\u001b[0m\u001b[0mphone\u001b[0m\u001b[1;33m,\u001b[0m\u001b[0mad\u001b[0m\u001b[1;33m)\u001b[0m\u001b[1;33m\u001b[0m\u001b[0m\n\u001b[0;32m     23\u001b[0m \u001b[1;33m\u001b[0m\u001b[0m\n\u001b[1;32m---> 24\u001b[1;33m \u001b[0md\u001b[0m \u001b[1;33m=\u001b[0m \u001b[0mparse_str\u001b[0m\u001b[1;33m(\u001b[0m\u001b[0ms\u001b[0m\u001b[1;33m)\u001b[0m\u001b[1;33m\u001b[0m\u001b[0m\n\u001b[0m\u001b[0;32m     25\u001b[0m \u001b[0md\u001b[0m\u001b[1;33m\u001b[0m\u001b[0m\n",
      "\u001b[1;32m<ipython-input-84-cd40bc35c80c>\u001b[0m in \u001b[0;36mparse_str\u001b[1;34m(s)\u001b[0m\n\u001b[0;32m     13\u001b[0m                 \u001b[1;32mfor\u001b[0m \u001b[0mj\u001b[0m \u001b[1;32min\u001b[0m \u001b[0mrange\u001b[0m\u001b[1;33m(\u001b[0m\u001b[0mlen\u001b[0m\u001b[1;33m(\u001b[0m\u001b[0ms\u001b[0m\u001b[1;33m)\u001b[0m\u001b[1;33m)\u001b[0m\u001b[1;33m:\u001b[0m\u001b[1;33m\u001b[0m\u001b[0m\n\u001b[0;32m     14\u001b[0m                     \u001b[0mname\u001b[0m\u001b[1;33m[\u001b[0m\u001b[0mi\u001b[0m\u001b[1;33m]\u001b[0m\u001b[1;33m.\u001b[0m\u001b[0mappend\u001b[0m\u001b[1;33m(\u001b[0m\u001b[1;33m[\u001b[0m\u001b[0ms\u001b[0m\u001b[1;33m[\u001b[0m\u001b[0mj\u001b[0m\u001b[1;33m]\u001b[0m\u001b[1;33m]\u001b[0m\u001b[1;33m)\u001b[0m\u001b[1;33m\u001b[0m\u001b[0m\n\u001b[1;32m---> 15\u001b[1;33m         \u001b[1;32melif\u001b[0m \u001b[0ms\u001b[0m\u001b[1;33m[\u001b[0m\u001b[0mj\u001b[0m\u001b[1;33m]\u001b[0m\u001b[1;33m==\u001b[0m\u001b[1;34m'+'\u001b[0m\u001b[1;33m:\u001b[0m\u001b[1;33m\u001b[0m\u001b[0m\n\u001b[0m\u001b[0;32m     16\u001b[0m             \u001b[1;32mwhile\u001b[0m \u001b[0ms\u001b[0m\u001b[1;33m[\u001b[0m\u001b[0mj\u001b[0m\u001b[1;33m]\u001b[0m \u001b[1;32min\u001b[0m \u001b[0mp\u001b[0m\u001b[1;33m:\u001b[0m\u001b[1;33m\u001b[0m\u001b[0m\n\u001b[0;32m     17\u001b[0m                 \u001b[1;32mfor\u001b[0m \u001b[0mj\u001b[0m \u001b[1;32min\u001b[0m \u001b[0mrange\u001b[0m\u001b[1;33m(\u001b[0m\u001b[0mlen\u001b[0m\u001b[1;33m(\u001b[0m\u001b[0ms\u001b[0m\u001b[1;33m)\u001b[0m\u001b[1;33m)\u001b[0m\u001b[1;33m:\u001b[0m\u001b[1;33m\u001b[0m\u001b[0m\n",
      "\u001b[1;31mUnboundLocalError\u001b[0m: local variable 'j' referenced before assignment"
     ]
    }
   ],
   "source": [
    "s = '''+1-541-754-3010 156?!  Мосфильмовская 34,  <Рождественский Р.>\\n  ул. Большая Полянка, <Воронцов Михаил>  Москва!  +7-923-911-2134\\n<Кужим>  Санкт-Петербург, ул.Свободы,  +34-3145-3245  ?дом 1'''\n",
    "def parse_str(s):\n",
    "    new_1=s.replace(' ','')\n",
    "    new_2=new_1.replace('!','')\n",
    "    new_s=new_2.replace('?','')\n",
    "    num=['+',0,1,2,3,4,5,6,7,8,9,'-']    \n",
    "    a=0\n",
    "    c=0\n",
    "    g=[]\n",
    "    #f=[]\n",
    "    b=new_s.count('\\n')\n",
    "    for i in range(b):\n",
    "        g.append([])\n",
    "        while new_s[a]!=\"\\n\": \n",
    "            a=a+1        \n",
    "        g[i].append(new_s[c:a])\n",
    "        a=a+1\n",
    "        c=a\n",
    "    g.append([])\n",
    "    g[b].append(new_s[c:])\n",
    "    #for i in range(len(g)):\n",
    "    #    if g[i]==f:\n",
    "    #        g.pop(i)\n",
    "    s1={}\n",
    "    s2={}\n",
    "    s3={}\n",
    "    a=0\n",
    "    aa=''\n",
    "    for i in range(len(g)):\n",
    "        gg=(''.join(g[i]))\n",
    "        v=['<','>','+',len(gg)-1]\n",
    "        c=aa\n",
    "        while a!=(len(gg)-1):\n",
    "            if gg[a] in str(num):\n",
    "                while gg[a] in str(num):\n",
    "                    aa=aa+str(gg[a])\n",
    "                    s1['number']=aa\n",
    "                    if a!=len(gg)-1:\n",
    "                        a=a+1\n",
    "                    else:\n",
    "                        break\n",
    "                num=[]\n",
    "                aa=''\n",
    "            elif gg[a] =='<':\n",
    "                while gg[a]!='>':\n",
    "                    aa=aa+str(gg[a])\n",
    "                    s2['name']=aa\n",
    "                    a=a+1\n",
    "                aa=aa+str(gg[a])\n",
    "                s2['name']=aa\n",
    "                if a!=len(gg)-1:\n",
    "                    a=a+1\n",
    "                aa=''\n",
    "            else:\n",
    "                while gg[a] not in v:\n",
    "                    aa=aa+str(gg[a])\n",
    "                    s1['address']=aa\n",
    "                    if a!=len(gg)-1:\n",
    "                        a=a+1\n",
    "                    else:\n",
    "                        break\n",
    "                c=c+aa\n",
    "                s1['address']=c\n",
    "                aa=''\n",
    "        ss1=s1.copy()\n",
    "        s3[s2['name']]=ss1\n",
    "        num=['+',0,1,2,3,4,5,6,7,8,9,'-']\n",
    "        a=0        \n",
    "    print(s3)\n",
    "        \n",
    "d = parse_str(s)     \n",
    "d"
   ]
  },
  {
   "cell_type": "markdown",
   "metadata": {},
   "source": [
    "### Задача 9  «Диагонали, параллельные главной» (1 балл)\n",
    "На вход функции подается число n. Функция должна создать массив $n\\times n$ и заполнить его по следующему правилу. На главной диагонали должны быть записаны числа 0. На двух диагоналях, прилегающих к главной, числа 1. На следующих двух диагоналях числа 2, и т.д.\n",
    "\n",
    "**Пример**<br>\n",
    "***Вход***<br>\n",
    "5<br>\n",
    "***Выход***\t<br>\n",
    "0 1 2 3 4<br>\n",
    "1 0 1 2 3<br>\n",
    "2 1 0 1 2<br>\n",
    "3 2 1 0 1<br>\n",
    "4 3 2 1 0<br>"
   ]
  },
  {
   "cell_type": "code",
   "execution_count": 10,
   "metadata": {},
   "outputs": [],
   "source": [
    "# Ex. 9\n",
    "def diag(n):\n",
    "    c=[[0]*n for j in range(n)]\n",
    "    for i in range(n):\n",
    "        for j in range(n):\n",
    "            c[i][j]=abs(i-j)\n",
    "    \n",
    "    for i in c:\n",
    "        print(*i)"
   ]
  },
  {
   "cell_type": "code",
   "execution_count": 11,
   "metadata": {},
   "outputs": [
    {
     "name": "stdout",
     "output_type": "stream",
     "text": [
      "0 1 2 3 4 5\n",
      "1 0 1 2 3 4\n",
      "2 1 0 1 2 3\n",
      "3 2 1 0 1 2\n",
      "4 3 2 1 0 1\n",
      "5 4 3 2 1 0\n"
     ]
    }
   ],
   "source": [
    "diag(6)"
   ]
  },
  {
   "cell_type": "markdown",
   "metadata": {},
   "source": [
    "### Задача 10 Числа Фибоначчи (3 балла)\n",
    "Напишите функцию fib(n), которая по данному целому неотрицательному n возвращает n-e число Фибоначчи. В этой задаче нельзя использовать циклы — используйте рекурсию."
   ]
  },
  {
   "cell_type": "code",
   "execution_count": 80,
   "metadata": {},
   "outputs": [],
   "source": [
    "# Ex.10\n",
    "c=[1,1]\n",
    "def fib(n):  \n",
    "    a=c[-1]\n",
    "    if n==1 or n==2:\n",
    "        return 1\n",
    "    a=a+c[-2]\n",
    "    c.append(a)\n",
    "    if len(c)==n:\n",
    "        return c[-1]\n",
    "    else:\n",
    "        return fib(n)\n"
   ]
  },
  {
   "cell_type": "code",
   "execution_count": 81,
   "metadata": {},
   "outputs": [
    {
     "data": {
      "text/plain": [
       "233"
      ]
     },
     "execution_count": 81,
     "metadata": {},
     "output_type": "execute_result"
    }
   ],
   "source": [
    "fib(13)"
   ]
  },
  {
   "cell_type": "markdown",
   "metadata": {},
   "source": [
    "### Обратная связь"
   ]
  },
  {
   "cell_type": "markdown",
   "metadata": {},
   "source": [
    "Пожалуйста, пройдите [анкету](https://goo.gl/forms/IeIO2lVd9iY7GN4v2) и оставьте свои впечатления от домашней работы / лекции. Мы очень хотим стать для вас лучше)))"
   ]
  }
 ],
 "metadata": {
  "anaconda-cloud": {},
  "kernelspec": {
   "display_name": "Python 3",
   "language": "python",
   "name": "python3"
  },
  "language_info": {
   "codemirror_mode": {
    "name": "ipython",
    "version": 3
   },
   "file_extension": ".py",
   "mimetype": "text/x-python",
   "name": "python",
   "nbconvert_exporter": "python",
   "pygments_lexer": "ipython3",
   "version": "3.7.0"
  }
 },
 "nbformat": 4,
 "nbformat_minor": 2
}
